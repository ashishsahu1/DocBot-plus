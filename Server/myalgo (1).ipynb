{
 "cells": [
  {
   "cell_type": "code",
   "execution_count": 2,
   "metadata": {},
   "outputs": [],
   "source": [
    "import numpy as np\n",
    "import pandas as pd\n",
    "dfsf = pd.read_csv(\"../Datasets/1044.txt\", delimiter = \"\\t\")\n",
    "dfgs = pd.read_csv(\"../Datasets/outg.csv\")\n",
    "dfgd = pd.read_csv(\"../Datasets/outd.csv\")"
   ]
  },
  {
   "cell_type": "markdown",
   "metadata": {},
   "source": [
    "#### Ignore this cell, this is a previous version of code"
   ]
  },
  {
   "cell_type": "code",
   "execution_count": 3,
   "metadata": {},
   "outputs": [
    {
     "output_type": "execute_result",
     "data": {
      "text/plain": [
       "'\\ncommon_syps = [\"Fever\", \"Nausea\", \"Cough\", \"Pain\", \"Muscle Weakness\", \"Vomiting\"]\\nsymptoms_list = set()    # ----------------all possible/input symptom of patient-------------\\ndpch = set()      #------dis patient can have --------------------\\nprint(\"---------------------------------------- START -----------------------------------------------------------------\\n\")\\n[print(i) for i in common_syps]\\nprint(\"\\nDo you have a symptom from the symptoms given above : \")\\nprint(\"---------------------------------- ENTER 1 IF YES, ELSE ENTER 0 -------------------------------------------------\")\\nDuhms = int(input(\"Enter here 1 or 0  :  \"))\\n\\nwhile Duhms:\\n    sym = input(\"\\nEnter symptom U have : \\n\")\\n    symptoms_list.add(sym)\\n    #------------finding top most 4 disease acc to given symptom ----------------\\n    t4d = list(dfgs[dfgs[\"MeSH Symptom Term\"]==sym][\"MeSH Disease Term\"][:4])\\n    dpch = dpch.union(set(t4d))\\n    #------------finding most freq syms in acc with t4d -------------------------\\n    #-----next possible symptoms-------\\n    uni_dis = set()\\n    for dis in t4d:\\n        t4ds = list(dfgd[dfgd[\"MeSH Disease Term\"]==dis][\"MeSH Symptom Term\"][:4])\\n        uni_dis = uni_dis.union(set(t4ds))\\n    #-------------------------Display nps to patient & ask-------------------------\\n    #print(nps)\\n    print(\"---------------------------------- DO YOU HAVE ANY OF THESE SYMPTOMS..??  -----------------------------------------\")\\n    [print(every_dis) for every_dis in list(uni_dis)]\\n    print(\"---------------------------------- ENTER 1 IF YES, ELSE ENTER 0 -------------------------------------------------\")\\n    Duhms = int(input(\"Enter here 1 or 0:  \"))\\nprint(\"\\n---------------------------------------- END -----------------------------------------------------------------\")\\n'"
      ]
     },
     "metadata": {},
     "execution_count": 3
    }
   ],
   "source": [
    "'''\n",
    "common_syps = [\"Fever\", \"Nausea\", \"Cough\", \"Pain\", \"Muscle Weakness\", \"Vomiting\"]\n",
    "symptoms_list = set()    # ----------------all possible/input symptom of patient-------------\n",
    "dpch = set()      #------dis patient can have --------------------\n",
    "print(\"---------------------------------------- START -----------------------------------------------------------------\\n\")\n",
    "[print(i) for i in common_syps]\n",
    "print(\"\\nDo you have a symptom from the symptoms given above : \")\n",
    "print(\"---------------------------------- ENTER 1 IF YES, ELSE ENTER 0 -------------------------------------------------\")\n",
    "Duhms = int(input(\"Enter here 1 or 0  :  \"))\n",
    "\n",
    "while Duhms:\n",
    "    sym = input(\"\\nEnter symptom U have : \\n\")\n",
    "    symptoms_list.add(sym)\n",
    "    #------------finding top most 4 disease acc to given symptom ----------------\n",
    "    t4d = list(dfgs[dfgs[\"MeSH Symptom Term\"]==sym][\"MeSH Disease Term\"][:4])\n",
    "    dpch = dpch.union(set(t4d))\n",
    "    #------------finding most freq syms in acc with t4d -------------------------\n",
    "    #-----next possible symptoms-------\n",
    "    uni_dis = set()\n",
    "    for dis in t4d:\n",
    "        t4ds = list(dfgd[dfgd[\"MeSH Disease Term\"]==dis][\"MeSH Symptom Term\"][:4])\n",
    "        uni_dis = uni_dis.union(set(t4ds))\n",
    "    #-------------------------Display nps to patient & ask-------------------------\n",
    "    #print(nps)\n",
    "    print(\"---------------------------------- DO YOU HAVE ANY OF THESE SYMPTOMS..??  -----------------------------------------\")\n",
    "    [print(every_dis) for every_dis in list(uni_dis)]\n",
    "    print(\"---------------------------------- ENTER 1 IF YES, ELSE ENTER 0 -------------------------------------------------\")\n",
    "    Duhms = int(input(\"Enter here 1 or 0:  \"))\n",
    "print(\"\\n---------------------------------------- END -----------------------------------------------------------------\")\n",
    "'''"
   ]
  },
  {
   "cell_type": "markdown",
   "metadata": {},
   "source": [
    "#### Next Version"
   ]
  },
  {
   "cell_type": "code",
   "execution_count": 6,
   "metadata": {},
   "outputs": [
    {
     "output_type": "stream",
     "name": "stdout",
     "text": [
      "Fever\n",
      "Nausea\n",
      "Cough\n",
      "Pain\n",
      "Muscle Weakness\n",
      "Vomiting\n",
      "Do u have any of symptoms above : \n",
      "\n",
      "--------- SEE IF U HAVE MORE SYMPTOMS FROM ANY OF GIVEN BELOW ------------------------ \n",
      "\n",
      "Body Weight\n",
      "Anoxia\n",
      "Diarrhea\n",
      "Birth Weight\n",
      "Fever\n",
      "Diarrhea, Infantile\n",
      "Purpura, Thrombocytopenic, Idiopathic\n",
      "Fever of Unknown Origin\n",
      "\n",
      "Do u more symptoms ..??\n",
      "\n",
      "enter 1 for yes, for NO enter 0 :\n",
      "\n",
      "--------- SEE IF U HAVE MORE SYMPTOMS FROM ANY OF GIVEN BELOW ------------------------ \n",
      "\n",
      "Body Weight\n",
      "Anoxia\n",
      "Diarrhea\n",
      "Birth Weight\n",
      "Fever\n",
      "Diarrhea, Infantile\n",
      "Purpura, Thrombocytopenic, Idiopathic\n",
      "Fever of Unknown Origin\n",
      "\n",
      "Do u more symptoms ..??\n",
      "\n",
      "enter 1 for yes, for NO enter 0 :\n",
      "\n",
      " Total symptoms Patient Have :  3\n",
      "Fever\n",
      "3\n",
      "Fever\n"
     ]
    },
    {
     "output_type": "execute_result",
     "data": {
      "text/plain": [
       "[None, None, None]"
      ]
     },
     "metadata": {},
     "execution_count": 6
    }
   ],
   "source": [
    "common_syps = [\"Fever\", \"Nausea\", \"Cough\", \"Pain\", \"Muscle Weakness\", \"Vomiting\"]\n",
    "sym_now = common_syps\n",
    "[print(i) for i in common_syps]\n",
    "\n",
    "total_sym_p_have=[]\n",
    "print(\"Do u have any of symptoms above : \")\n",
    "u_have_more_sym = int(input(\"enter 1 for YES, O for NO : \"))\n",
    "\n",
    "while(u_have_more_sym):\n",
    "    nos = int(input(\"enter the no. of symptoms u have : \"))\n",
    "    uni_syms = set()\n",
    "    sym_current = []\n",
    "    for i in range(nos):\n",
    "        sym = input(\"enter the name of symptom u have : \")\n",
    "        total_sym_p_have.append(sym)\n",
    "        sym_current.append(sym)\n",
    "    #print(\"sym_current\", sym_current)\n",
    "    for each_sym in sym_current:\n",
    "        #------------finding top most 4 disease acc to given symptom ----------------\n",
    "        t4d = list(dfgs[dfgs[\"MeSH Symptom Term\"]==each_sym][\"MeSH Disease Term\"][:4])\n",
    "        #------------finding most freq syms in acc with t4d -------------------------\n",
    "        #-----next possible symptoms-------\n",
    "        for dis in t4d:\n",
    "            t4ds = list(dfgd[dfgd[\"MeSH Disease Term\"]==dis][\"MeSH Symptom Term\"][:4])\n",
    "            uni_syms = uni_syms.union(set(t4ds))\n",
    "    uni_syms = list(uni_syms)\n",
    "    #print(uni_syms)\n",
    "    df = pd.DataFrame(columns = dfsf.columns)\n",
    "    for each_sym in uni_syms:\n",
    "            df = df.append(dfsf[dfsf[\"MeSH Symptom Term\"]==each_sym])\n",
    "    df.sort_values(by=[\"PubMed occurrence\"], ascending=False,inplace = True)\n",
    "    #print(df)\n",
    "    top15_sym = list(df[\"MeSH Symptom Term\"][:15])\n",
    "    #------------------------display top 15-----------\n",
    "    print(\"\\n--------- SEE IF U HAVE MORE SYMPTOMS FROM ANY OF GIVEN BELOW ------------------------ \\n\")\n",
    "    [print(i) for i in top15_sym]\n",
    "    print(\"\\nDo u more symptoms ..??\")\n",
    "    print(\"\\nenter 1 for yes, for NO enter 0 :\")\n",
    "    u_have_more_sym = int(input(\"\\n enter 0 or 1 : \"))\n",
    "    # if dont have then make u_have_more_sym = 0\n",
    "    # else goto top of while loop again\n",
    "print(\"\\n Total symptoms Patient Have : \", len(total_sym_p_have))\n",
    "[print(i) for i in total_sym_p_have]\n"
   ]
  },
  {
   "cell_type": "code",
   "execution_count": 7,
   "metadata": {},
   "outputs": [],
   "source": [
    "# common_syps = [\"Fever\", \"Nausea\", \"Cough\", \"Pain\", \"Muscle Weakness\", \"Vomiting\"]\n",
    "# df_example = pd.DataFrame()\n",
    "# for i in common_syps:\n",
    "#     df_example = df_example.append(dfsf[dfsf[\"MeSH Symptom Term\"]==i])\n",
    "# df_example = df_example.sort_values(by=[\"PubMed occurrence\"], ascending=False)\n",
    "# df_example\n",
    "\n",
    "# df = pd.DataFrame(columns = dfsf.columns)\n",
    "# for each_sym in uni_syms:\n",
    "#         df = df.append(dfsf[dfsf[\"MeSH Symptom Term\"]==i])\n",
    "# print(df)\n",
    "# df.sort_values(by=[\"PubMed occurrence\"], ascending=False,inplace = True)\n",
    "# top15_sym = list(df[\"MeSH Symptom Term\"][:15])"
   ]
  },
  {
   "cell_type": "code",
   "execution_count": null,
   "metadata": {},
   "outputs": [],
   "source": []
  },
  {
   "cell_type": "code",
   "execution_count": null,
   "metadata": {},
   "outputs": [],
   "source": []
  },
  {
   "cell_type": "code",
   "execution_count": null,
   "metadata": {},
   "outputs": [],
   "source": []
  },
  {
   "cell_type": "code",
   "execution_count": null,
   "metadata": {},
   "outputs": [],
   "source": []
  },
  {
   "cell_type": "code",
   "execution_count": null,
   "metadata": {},
   "outputs": [],
   "source": []
  },
  {
   "cell_type": "code",
   "execution_count": null,
   "metadata": {},
   "outputs": [],
   "source": []
  },
  {
   "cell_type": "code",
   "execution_count": null,
   "metadata": {},
   "outputs": [],
   "source": []
  },
  {
   "cell_type": "code",
   "execution_count": null,
   "metadata": {},
   "outputs": [],
   "source": []
  },
  {
   "cell_type": "code",
   "execution_count": null,
   "metadata": {},
   "outputs": [],
   "source": []
  },
  {
   "cell_type": "code",
   "execution_count": null,
   "metadata": {},
   "outputs": [],
   "source": []
  },
  {
   "cell_type": "code",
   "execution_count": null,
   "metadata": {},
   "outputs": [],
   "source": []
  },
  {
   "cell_type": "code",
   "execution_count": null,
   "metadata": {},
   "outputs": [],
   "source": []
  },
  {
   "cell_type": "code",
   "execution_count": null,
   "metadata": {},
   "outputs": [],
   "source": []
  },
  {
   "cell_type": "code",
   "execution_count": null,
   "metadata": {},
   "outputs": [],
   "source": []
  },
  {
   "cell_type": "code",
   "execution_count": null,
   "metadata": {},
   "outputs": [],
   "source": []
  },
  {
   "cell_type": "code",
   "execution_count": null,
   "metadata": {},
   "outputs": [],
   "source": []
  },
  {
   "cell_type": "code",
   "execution_count": null,
   "metadata": {},
   "outputs": [],
   "source": []
  },
  {
   "cell_type": "code",
   "execution_count": null,
   "metadata": {},
   "outputs": [],
   "source": []
  },
  {
   "cell_type": "code",
   "execution_count": null,
   "metadata": {},
   "outputs": [],
   "source": []
  },
  {
   "cell_type": "code",
   "execution_count": null,
   "metadata": {},
   "outputs": [],
   "source": []
  },
  {
   "cell_type": "code",
   "execution_count": null,
   "metadata": {},
   "outputs": [],
   "source": []
  },
  {
   "cell_type": "code",
   "execution_count": null,
   "metadata": {},
   "outputs": [],
   "source": []
  },
  {
   "cell_type": "code",
   "execution_count": null,
   "metadata": {},
   "outputs": [],
   "source": []
  },
  {
   "cell_type": "code",
   "execution_count": null,
   "metadata": {},
   "outputs": [],
   "source": []
  },
  {
   "cell_type": "code",
   "execution_count": null,
   "metadata": {},
   "outputs": [],
   "source": []
  },
  {
   "cell_type": "code",
   "execution_count": null,
   "metadata": {},
   "outputs": [],
   "source": []
  },
  {
   "cell_type": "code",
   "execution_count": null,
   "metadata": {},
   "outputs": [],
   "source": []
  },
  {
   "cell_type": "code",
   "execution_count": null,
   "metadata": {},
   "outputs": [],
   "source": []
  },
  {
   "cell_type": "code",
   "execution_count": null,
   "metadata": {},
   "outputs": [],
   "source": []
  },
  {
   "cell_type": "code",
   "execution_count": null,
   "metadata": {},
   "outputs": [],
   "source": []
  },
  {
   "cell_type": "code",
   "execution_count": null,
   "metadata": {},
   "outputs": [],
   "source": []
  },
  {
   "cell_type": "code",
   "execution_count": null,
   "metadata": {},
   "outputs": [],
   "source": []
  },
  {
   "cell_type": "code",
   "execution_count": null,
   "metadata": {},
   "outputs": [],
   "source": []
  },
  {
   "cell_type": "code",
   "execution_count": null,
   "metadata": {},
   "outputs": [],
   "source": []
  },
  {
   "cell_type": "code",
   "execution_count": null,
   "metadata": {},
   "outputs": [],
   "source": []
  },
  {
   "cell_type": "code",
   "execution_count": null,
   "metadata": {},
   "outputs": [],
   "source": []
  },
  {
   "cell_type": "code",
   "execution_count": null,
   "metadata": {},
   "outputs": [],
   "source": []
  },
  {
   "cell_type": "code",
   "execution_count": null,
   "metadata": {},
   "outputs": [],
   "source": []
  },
  {
   "cell_type": "code",
   "execution_count": null,
   "metadata": {},
   "outputs": [],
   "source": []
  },
  {
   "cell_type": "code",
   "execution_count": null,
   "metadata": {},
   "outputs": [],
   "source": []
  },
  {
   "cell_type": "code",
   "execution_count": null,
   "metadata": {},
   "outputs": [],
   "source": []
  },
  {
   "cell_type": "code",
   "execution_count": null,
   "metadata": {},
   "outputs": [],
   "source": []
  },
  {
   "cell_type": "code",
   "execution_count": null,
   "metadata": {},
   "outputs": [],
   "source": []
  },
  {
   "cell_type": "code",
   "execution_count": null,
   "metadata": {},
   "outputs": [],
   "source": []
  },
  {
   "cell_type": "code",
   "execution_count": null,
   "metadata": {},
   "outputs": [],
   "source": []
  },
  {
   "cell_type": "code",
   "execution_count": null,
   "metadata": {},
   "outputs": [],
   "source": []
  },
  {
   "cell_type": "code",
   "execution_count": null,
   "metadata": {},
   "outputs": [],
   "source": []
  },
  {
   "cell_type": "code",
   "execution_count": null,
   "metadata": {},
   "outputs": [],
   "source": []
  },
  {
   "cell_type": "code",
   "execution_count": null,
   "metadata": {},
   "outputs": [],
   "source": []
  },
  {
   "cell_type": "code",
   "execution_count": null,
   "metadata": {},
   "outputs": [],
   "source": []
  },
  {
   "cell_type": "code",
   "execution_count": null,
   "metadata": {},
   "outputs": [],
   "source": []
  },
  {
   "cell_type": "code",
   "execution_count": null,
   "metadata": {},
   "outputs": [],
   "source": []
  },
  {
   "cell_type": "code",
   "execution_count": null,
   "metadata": {},
   "outputs": [],
   "source": []
  },
  {
   "cell_type": "code",
   "execution_count": null,
   "metadata": {},
   "outputs": [],
   "source": []
  },
  {
   "cell_type": "code",
   "execution_count": null,
   "metadata": {},
   "outputs": [],
   "source": []
  },
  {
   "cell_type": "code",
   "execution_count": null,
   "metadata": {},
   "outputs": [],
   "source": []
  },
  {
   "cell_type": "code",
   "execution_count": null,
   "metadata": {},
   "outputs": [],
   "source": []
  },
  {
   "cell_type": "code",
   "execution_count": null,
   "metadata": {},
   "outputs": [],
   "source": []
  },
  {
   "cell_type": "code",
   "execution_count": null,
   "metadata": {},
   "outputs": [],
   "source": []
  },
  {
   "cell_type": "code",
   "execution_count": null,
   "metadata": {},
   "outputs": [],
   "source": []
  },
  {
   "cell_type": "code",
   "execution_count": null,
   "metadata": {},
   "outputs": [],
   "source": []
  },
  {
   "cell_type": "code",
   "execution_count": null,
   "metadata": {},
   "outputs": [],
   "source": []
  },
  {
   "cell_type": "code",
   "execution_count": null,
   "metadata": {},
   "outputs": [],
   "source": []
  },
  {
   "cell_type": "code",
   "execution_count": null,
   "metadata": {},
   "outputs": [],
   "source": []
  },
  {
   "cell_type": "code",
   "execution_count": null,
   "metadata": {},
   "outputs": [],
   "source": []
  },
  {
   "cell_type": "code",
   "execution_count": null,
   "metadata": {},
   "outputs": [],
   "source": []
  },
  {
   "cell_type": "code",
   "execution_count": null,
   "metadata": {},
   "outputs": [],
   "source": []
  },
  {
   "cell_type": "code",
   "execution_count": null,
   "metadata": {},
   "outputs": [],
   "source": []
  },
  {
   "cell_type": "code",
   "execution_count": null,
   "metadata": {},
   "outputs": [],
   "source": []
  },
  {
   "cell_type": "code",
   "execution_count": null,
   "metadata": {},
   "outputs": [],
   "source": []
  },
  {
   "cell_type": "code",
   "execution_count": null,
   "metadata": {},
   "outputs": [],
   "source": []
  },
  {
   "cell_type": "code",
   "execution_count": null,
   "metadata": {},
   "outputs": [],
   "source": []
  },
  {
   "cell_type": "code",
   "execution_count": null,
   "metadata": {},
   "outputs": [],
   "source": []
  },
  {
   "cell_type": "code",
   "execution_count": null,
   "metadata": {},
   "outputs": [],
   "source": []
  },
  {
   "cell_type": "code",
   "execution_count": null,
   "metadata": {},
   "outputs": [],
   "source": []
  },
  {
   "cell_type": "code",
   "execution_count": null,
   "metadata": {},
   "outputs": [],
   "source": []
  },
  {
   "cell_type": "code",
   "execution_count": null,
   "metadata": {},
   "outputs": [],
   "source": []
  },
  {
   "cell_type": "code",
   "execution_count": null,
   "metadata": {},
   "outputs": [],
   "source": []
  },
  {
   "cell_type": "code",
   "execution_count": null,
   "metadata": {},
   "outputs": [],
   "source": []
  },
  {
   "cell_type": "code",
   "execution_count": null,
   "metadata": {},
   "outputs": [],
   "source": []
  },
  {
   "cell_type": "code",
   "execution_count": null,
   "metadata": {},
   "outputs": [],
   "source": []
  },
  {
   "cell_type": "code",
   "execution_count": null,
   "metadata": {},
   "outputs": [],
   "source": []
  },
  {
   "cell_type": "code",
   "execution_count": null,
   "metadata": {},
   "outputs": [],
   "source": []
  },
  {
   "cell_type": "code",
   "execution_count": null,
   "metadata": {},
   "outputs": [],
   "source": []
  },
  {
   "cell_type": "code",
   "execution_count": null,
   "metadata": {},
   "outputs": [],
   "source": []
  },
  {
   "cell_type": "code",
   "execution_count": null,
   "metadata": {},
   "outputs": [],
   "source": []
  },
  {
   "cell_type": "code",
   "execution_count": null,
   "metadata": {},
   "outputs": [],
   "source": []
  },
  {
   "cell_type": "code",
   "execution_count": null,
   "metadata": {},
   "outputs": [],
   "source": []
  },
  {
   "cell_type": "code",
   "execution_count": null,
   "metadata": {},
   "outputs": [],
   "source": []
  }
 ],
 "metadata": {
  "kernelspec": {
   "name": "python379jvsc74a57bd0b3ba2566441a7c06988d0923437866b63cedc61552a5af99d1f4fb67d367b25f",
   "display_name": "Python 3.7.9 64-bit ('base': conda)"
  },
  "language_info": {
   "codemirror_mode": {
    "name": "ipython",
    "version": 3
   },
   "file_extension": ".py",
   "mimetype": "text/x-python",
   "name": "python",
   "nbconvert_exporter": "python",
   "pygments_lexer": "ipython3",
   "version": "3.7.9"
  }
 },
 "nbformat": 4,
 "nbformat_minor": 4
}